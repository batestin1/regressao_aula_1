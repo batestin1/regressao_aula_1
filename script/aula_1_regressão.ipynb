{
  "nbformat": 4,
  "nbformat_minor": 0,
  "metadata": {
    "colab": {
      "provenance": []
    },
    "kernelspec": {
      "name": "python3",
      "display_name": "Python 3"
    },
    "language_info": {
      "name": "python"
    }
  },
  "cells": [
    {
      "cell_type": "markdown",
      "source": [
        "# Regressão"
      ],
      "metadata": {
        "id": "TuWAceWcMFEU"
      }
    },
    {
      "cell_type": "markdown",
      "source": [
        "# Tipos de Aprendizado de  Máquina\n",
        "\n",
        "1. **Aprendizado Supervisionado**: Ocorre quando o modelo é treinado com um conjunto de dados rotulado, ou seja, os dados de entrada possuem as respostas corretas (ou rótulos). O objetivo é que o modelo aprenda a associar as entradas às saídas corretas para realizar previsões ou classificações em novos dados. Exemplos incluem regressão e classificação.\n",
        "\n",
        "2. **Aprendizado Não Supervisionado**: Nesse tipo de aprendizado, o modelo trabalha com dados não rotulados, ou seja, não há respostas corretas fornecidas. O objetivo é identificar padrões, estruturas ou agrupamentos nos dados. Técnicas como clustering e redução de dimensionalidade são exemplos de aprendizado não supervisionado.\n",
        "\n",
        "3. **Aprendizado por Reforço**: Esse tipo de aprendizado envolve um agente que interage com um ambiente e aprende a tomar decisões por tentativa e erro, recebendo recompensas ou penalidades com base em suas ações. O objetivo é maximizar a recompensa total ao longo do tempo. É amplamente utilizado em áreas como robótica e jogos."
      ],
      "metadata": {
        "id": "zOvPK_jVcSle"
      }
    },
    {
      "cell_type": "markdown",
      "source": [
        "# Definição\n",
        "\n",
        "1. A regressão é uma técnica estatística utilizada em Machine Learning que busca modelar e explicar a relação entre uma variável dependente (ou resposta, target, alvo) e uma ou mais variáveis independentes (ou preditoras, explicativas, causadoras). O objetivo é identificar como as variáveis independentes influenciam a variável dependente, permitindo fazer previsões ou entender padrões com base nos dados disponíveis.\n"
      ],
      "metadata": {
        "id": "xoAu13_YSDWu"
      }
    },
    {
      "cell_type": "markdown",
      "source": [
        "# Quando o problema é de Regressão?\n",
        "\n",
        "1. Em Machine Learning, identificamos um problema de regressão quando o objetivo é prever um valor numérico contínuo (1.0, 0.1, 1.0082731230, etc..). Exemplos comuns incluem prever o preço de um produto, o peso de uma fruta, o tamanho de uma casa, entre outros. A característica central de problemas de regressão é a previsão de valores quantitativos com base em variáveis preditoras."
      ],
      "metadata": {
        "id": "XpMKwtwNMZTR"
      }
    },
    {
      "cell_type": "markdown",
      "source": [
        "# Tipos de Regressão"
      ],
      "metadata": {
        "id": "YwxcXjIkNStW"
      }
    },
    {
      "cell_type": "markdown",
      "source": [
        "### Regressão Linear\n",
        "\n",
        "**Descrição**:\n",
        "<p> A regressão linear é um método estatístico utilizado para modelar a relação entre uma variável dependente (também chamada de variável resposta) e uma ou mais variáveis independentes (ou preditoras). O objetivo é encontrar a linha reta que melhor ajusta os dados, permitindo prever valores da variável dependente com base nas variáveis preditoras. </p>\n",
        "\n",
        "**Fórmula**\n",
        "\n",
        "![Descrição da imagem](https://www.alura.com.br/artigos/assets/desvendando-a-regressao-linear/imagem4.png)\n",
        "\n",
        "\n",
        "**Exemplos Práticos**:\n",
        "1. Prever o preço de uma casa com base em sua metragem.\n",
        "2. Estimar o rendimento de um funcionário com base em suas horas de trabalho.\n",
        "\n",
        "**Principais Características**:\n",
        "1. Linearidade: Assume uma relação linear entre as variáveis.\n",
        "Interpretação Simples: É fácil de interpretar, já que a equação é uma linha reta.\n",
        "\n",
        "**Uso Comum**:\n",
        "<p> Muito utilizada em várias áreas, como economia, biologia e ciências sociais. <p>\n",
        "\n",
        "**Prática**:\n",
        "<p> Estimando salário com base em tempo de experiência. <p>"
      ],
      "metadata": {
        "id": "SBwFXpbctlnh"
      }
    },
    {
      "cell_type": "code",
      "source": [
        "!rm -rf /content/sample_data\n",
        "!mkdir -p /content/dataset\n",
        "!git clone https://github.com/batestin1/regressao_aula_1.git /content/files\n",
        "!mv /content/files/dataset/* /content/dataset\n",
        "!rm -rf /content/files"
      ],
      "metadata": {
        "id": "AtaTHhzrQfVi"
      },
      "execution_count": null,
      "outputs": []
    },
    {
      "cell_type": "code",
      "source": [
        "# importando as bibliotecas\n",
        "\n",
        "import pandas as pd #para transformar dados em dataframe\n",
        "import numpy as np #não chegarei a usar, mas fica de opção para criar matrizes e vetores\n",
        "import matplotlib.pyplot as plt # para visualizarmos\n",
        "from sklearn.linear_model import LinearRegression #o modelo selecionado\n",
        "from sklearn.model_selection import train_test_split #para separar nossos dados em teste e treino\n",
        "from sklearn.metrics import mean_squared_error, r2_score #para apurar nossa previsão\n"
      ],
      "metadata": {
        "id": "6OZuLItZwZLL"
      },
      "execution_count": null,
      "outputs": []
    },
    {
      "cell_type": "code",
      "source": [
        "df_linear = pd.read_csv('/content/dataset/regressaoLinearSimples/Salary_dataset.csvv')"
      ],
      "metadata": {
        "id": "BJ4Xpy7Twcwc"
      },
      "execution_count": null,
      "outputs": []
    },
    {
      "cell_type": "code",
      "source": [
        "df_linear.head()"
      ],
      "metadata": {
        "id": "AUiSRXoPwf8s"
      },
      "execution_count": null,
      "outputs": []
    },
    {
      "cell_type": "code",
      "source": [
        "#checando se existe valores nao preenchidos\n",
        "df_linear.isna().sum()\n"
      ],
      "metadata": {
        "id": "eKKufHkuwihQ"
      },
      "execution_count": null,
      "outputs": []
    },
    {
      "cell_type": "code",
      "source": [
        "# visualizando como os dados estão distribuidos\n",
        "\n",
        "plt.scatter(df_linear['YearsExperience'], df_linear['Salary'])\n",
        "plt.xlabel('YearsExperience')\n",
        "plt.ylabel('Salary')\n",
        "plt.show()"
      ],
      "metadata": {
        "id": "jPyL42GKwlg9"
      },
      "execution_count": null,
      "outputs": []
    },
    {
      "cell_type": "code",
      "source": [
        "# Preparando os dados\n",
        "\n",
        "X = df_linear['YearsExperience'].values.reshape(-1, 1) # variavel causadora\n",
        "y = df_linear['Salary'].values.reshape(-1, 1) #variavel consequencia\n"
      ],
      "metadata": {
        "id": "BODDoTN1wo4V"
      },
      "execution_count": null,
      "outputs": []
    },
    {
      "cell_type": "code",
      "source": [
        "# Separando os dados em teste e treino\n",
        "\n",
        "X_train, X_test, y_train, y_test = train_test_split(X,y,test_size=0.4,random_state=42)\n"
      ],
      "metadata": {
        "id": "_WVzWIxvwsRg"
      },
      "execution_count": null,
      "outputs": []
    },
    {
      "cell_type": "code",
      "source": [
        "#estanciando o nosso modelo\n",
        "model_Linear = LinearRegression()\n"
      ],
      "metadata": {
        "id": "7zXtTm5RwvPy"
      },
      "execution_count": null,
      "outputs": []
    },
    {
      "cell_type": "code",
      "source": [
        "# visualizando o treino\n",
        "\n",
        "plt.scatter(X_train, y_train, color='blue', label='Dados de Treino')"
      ],
      "metadata": {
        "id": "5BJOLC2Xwxth"
      },
      "execution_count": null,
      "outputs": []
    },
    {
      "cell_type": "code",
      "source": [
        "#treinando o modelo\n",
        "\n",
        "model_Linear.fit(X_train,y_train)"
      ],
      "metadata": {
        "id": "b7to7AeUw0ML"
      },
      "execution_count": null,
      "outputs": []
    },
    {
      "cell_type": "code",
      "source": [
        "#Avaliando o modelo com R² (coeficiente de determinação)\n",
        "# quanto mais próximo de 1 melhor\n",
        "\n",
        "model_Linear.score(X_train.reshape(-1,1),y_train)\n"
      ],
      "metadata": {
        "id": "W_wh-5aRw3ea"
      },
      "execution_count": null,
      "outputs": []
    },
    {
      "cell_type": "code",
      "source": [
        "# Prevendo na prática\n",
        "\n",
        "Predict = model_Linear.predict((X_test).reshape((-1,1)))\n",
        "df_treino = pd.DataFrame({'Real': y_test.flatten(), 'Previsto': Predict.flatten()})\n",
        "df_treino"
      ],
      "metadata": {
        "id": "XP60SnwEw6fI"
      },
      "execution_count": null,
      "outputs": []
    },
    {
      "cell_type": "code",
      "source": [
        "# Comparando o modelo com a realidade\n",
        "\n",
        "plt.figure(figsize=(10, 6))\n",
        "\n",
        "# Plotando os valores reais\n",
        "plt.scatter(df_treino['Real'], df_treino['Previsto'], label='Valores Reais', color='blue')\n",
        "\n",
        "# Plotando os valores previstos\n",
        "plt.scatter(df_treino['Previsto'], df_treino['Real'], label='Valores Previstos', color='red', linestyle='--')\n",
        "\n",
        "# Adicionando a linha de ajuste (regressão linear)\n",
        "m, b = np.polyfit(df_treino['Real'], df_treino['Previsto'], 1)\n",
        "plt.plot(df_treino['Real'], m * df_treino['Real'] + b, color='red', linestyle='--', label='Linha de Ajuste')\n",
        "\n",
        "# Adicionando uma linha diagonal (correspondência perfeita)\n",
        "plt.plot(df_treino['Real'], df_treino['Real'], color='green', linestyle='--', label='Linha de Correspondência Perfeita')\n",
        "\n",
        "\n",
        "\n",
        "# Adicionando título e legendas\n",
        "plt.title('Comparação entre Valores Reais e Valores Previstos')\n",
        "plt.xlabel('Índice')\n",
        "plt.ylabel('Valores')\n",
        "plt.legend()\n",
        "\n",
        "# Exibindo o gráfico\n",
        "plt.show()"
      ],
      "metadata": {
        "id": "gTeHjGf5w99h"
      },
      "execution_count": null,
      "outputs": []
    },
    {
      "cell_type": "markdown",
      "source": [
        "### Regressão Linear Multipla\n",
        "\n",
        "<p> A regressão linear múltipla é um método estatístico utilizado para modelar a relação entre uma variável dependente (também chamada de variável resposta) e duas ou mais variáveis independentes (ou preditoras). O objetivo é encontrar um hiperplano que melhor ajusta os dados, permitindo prever valores da variável dependente com base nas variáveis preditoras. </p>\n",
        "\n",
        "**Fórmula**\n",
        "\n",
        "![Descrição da imagem](https://www.alura.com.br/artigos/assets/desvendando-a-regressao-linear/imagem4.png)\n",
        "\n",
        "**Exemplos Práticos**:\n",
        "1. Prever o consumo de um produto baseado em diversos fatores;\n",
        "2. Estimar a pontuação de seu score baseado em diversas variaveis.\n",
        "\n",
        "**Principais Características**:\n",
        "1. **Linearidade**: Assume uma relação linear entre a variável dependente e as variáveis independentes.\n",
        "2. **Interpretação Simples**: Apesar de envolver múltiplas variáveis independentes, a interpretação da equação é relativamente simples, já que a equação é uma extensão da linha reta para um hiperplano.\n",
        "\n",
        "**Uso Comum**:\n",
        "<p> Muito utilizada em várias áreas, como economia, biologia e ciências sociais, para entender a influência de múltiplas variáveis sobre uma variável de interesse. </p>"
      ],
      "metadata": {
        "id": "80HfAQAStGlZ"
      }
    },
    {
      "cell_type": "markdown",
      "source": [
        "**Prática**:\n",
        "<p> Estimando vendas de marketing. <p>"
      ],
      "metadata": {
        "id": "NbnmU1uu-b7_"
      }
    },
    {
      "cell_type": "code",
      "source": [
        "# importando as bibliotecas\n",
        "\n",
        "import pandas as pd #para transformar dados em dataframe\n",
        "import numpy as np #não chegarei a usar, mas fica de opção para criar matrizes e vetores\n",
        "import matplotlib.pyplot as plt # para visualizarmos\n",
        "from sklearn.model_selection import train_test_split #para separar nossos dados em teste e treino\n",
        "from sklearn.metrics import mean_squared_error, r2_score #para apurar nossa previsão\n",
        "from sklearn.tree import DecisionTreeRegressor #o modelo selecionado\n",
        "\n"
      ],
      "metadata": {
        "id": "rElIR3Re-F5m"
      },
      "execution_count": null,
      "outputs": []
    },
    {
      "cell_type": "code",
      "source": [
        "df_multiplo = pd.read_csv('/content/dataset/regressaoLinearMultipla/Marketing_Data.csv')"
      ],
      "metadata": {
        "id": "BmzITp7G-F4U"
      },
      "execution_count": null,
      "outputs": []
    },
    {
      "cell_type": "code",
      "source": [
        "df_multiplo.head()"
      ],
      "metadata": {
        "id": "3DBrRfE0_zjz"
      },
      "execution_count": null,
      "outputs": []
    },
    {
      "cell_type": "code",
      "source": [
        "#checando se existe valores nao preenchidos\n",
        "df_multiplo.isna().sum()\n"
      ],
      "metadata": {
        "id": "5vLrET5e_9WL"
      },
      "execution_count": null,
      "outputs": []
    },
    {
      "cell_type": "code",
      "source": [
        "# Visualizando gráficos de dispersão\n",
        "plt.figure(figsize=(14, 5))\n",
        "\n",
        "# Youtube vs Sales\n",
        "plt.subplot(1, 3, 1)\n",
        "plt.scatter(df_multiplo['youtube'], df_multiplo['sales'], color='b')\n",
        "plt.title('Youtube vs Sales')\n",
        "plt.xlabel('Youtube')\n",
        "plt.ylabel('Sales')\n",
        "\n",
        "# Facebook vs Sales\n",
        "plt.subplot(1, 3, 2)\n",
        "plt.scatter(df_multiplo['facebook'], df_multiplo['sales'], color='g')\n",
        "plt.title('Facebook vs Sales')\n",
        "plt.xlabel('Facebook')\n",
        "plt.ylabel('Sales')\n",
        "\n",
        "# Newspaper vs Sales\n",
        "plt.subplot(1, 3, 3)\n",
        "plt.scatter(df_multiplo['newspaper'], df_multiplo['sales'], color='r')\n",
        "plt.title('Newspaper vs Sales')\n",
        "plt.xlabel('Newspaper')\n",
        "plt.ylabel('Sales')\n",
        "\n",
        "plt.tight_layout()\n",
        "plt.show()"
      ],
      "metadata": {
        "id": "4B3KUz6LAHd9"
      },
      "execution_count": null,
      "outputs": []
    },
    {
      "cell_type": "code",
      "source": [
        "# Preparando os dados\n",
        "\n",
        "X = df_multiplo[['youtube', 'facebook', 'newspaper']].values # variaveis causadora\n",
        "y = df_multiplo['sales'].values #variavel consequencia\n"
      ],
      "metadata": {
        "id": "cZCbU5mBBqhl"
      },
      "execution_count": null,
      "outputs": []
    },
    {
      "cell_type": "code",
      "source": [
        "# Separando os dados em teste e treino\n",
        "\n",
        "X_train, X_test, y_train, y_test = train_test_split(X,y,test_size=0.4,random_state=42)\n"
      ],
      "metadata": {
        "id": "BXWyIWkZCX9R"
      },
      "execution_count": null,
      "outputs": []
    },
    {
      "cell_type": "code",
      "source": [
        "\n",
        "regressor = DecisionTreeRegressor(random_state = 0)\n",
        "regressor.fit(X_train, y_train)"
      ],
      "metadata": {
        "id": "oU6GkzRxCiL5"
      },
      "execution_count": null,
      "outputs": []
    },
    {
      "cell_type": "code",
      "source": [
        "#Avaliando o modelo com R² (coeficiente de determinação)\n",
        "# quanto mais próximo de 1 melhor\n",
        "\n",
        "regressor.score(X_train,y_train)"
      ],
      "metadata": {
        "id": "tJ1B9Z7uC5A9"
      },
      "execution_count": null,
      "outputs": []
    },
    {
      "cell_type": "code",
      "source": [
        "# Prevendo na prática\n",
        "\n",
        "Predict = regressor.predict((X_test))\n",
        "df_treino = pd.DataFrame({'Real': y_test.flatten(), 'Previsto': Predict.flatten()})\n",
        "df_treino"
      ],
      "metadata": {
        "id": "mV3ERK00DO7t"
      },
      "execution_count": null,
      "outputs": []
    },
    {
      "cell_type": "code",
      "source": [
        "# Comparando o modelo com a realidade\n",
        "\n",
        "plt.figure(figsize=(10, 6))\n",
        "\n",
        "# Plotando os valores reais\n",
        "plt.scatter(df_treino['Real'], df_treino['Previsto'], label='Valores Reais', color='blue')\n",
        "\n",
        "# Plotando os valores previstos\n",
        "plt.scatter(df_treino['Previsto'], df_treino['Real'], label='Valores Previstos', color='red', linestyle='--')\n",
        "\n",
        "# Adicionando a linha de ajuste (regressão linear)\n",
        "m, b = np.polyfit(df_treino['Real'], df_treino['Previsto'], 1)\n",
        "plt.plot(df_treino['Real'], m * df_treino['Real'] + b, color='red', linestyle='--', label='Linha de Ajuste')\n",
        "\n",
        "# Adicionando uma linha diagonal (correspondência perfeita)\n",
        "plt.plot(df_treino['Real'], df_treino['Real'], color='green', linestyle='--', label='Linha de Correspondência Perfeita')\n",
        "\n",
        "\n",
        "\n",
        "# Adicionando título e legendas\n",
        "plt.title('Comparação entre Valores Reais e Valores Previstos')\n",
        "plt.xlabel('Índice')\n",
        "plt.ylabel('Valores')\n",
        "plt.legend()\n",
        "\n",
        "# Exibindo o gráfico\n",
        "plt.show()"
      ],
      "metadata": {
        "id": "14kFfxepDeKo"
      },
      "execution_count": null,
      "outputs": []
    },
    {
      "cell_type": "markdown",
      "source": [
        "### Regressão Polimonial\n",
        "\n",
        "**Descrição**:\n",
        "<p> A regressão polinomial é particularmente útil quando suspeitamos que os dados possam seguir um padrão mais complexo, com curvas e flutuações. Ela nos permite ajustar um polinômio a esses dados, o que significa que podemos capturar relacionamentos não lineares e prever valores com maior precisão. </p>\n",
        "\n",
        "**Fórmula**\n",
        "\n",
        "Já a regressão polinomial é utilizada para modelar a relação não linear entre duas variáveis. A fórmula da regressão polinomial de grau  \n",
        "n\n",
        "  é dada por:\n",
        "\n",
        "y\n",
        "=\n",
        "β\n",
        "0\n",
        "+\n",
        "β\n",
        "1\n",
        "x\n",
        "1\n",
        "+\n",
        "β\n",
        "2\n",
        "x\n",
        "2\n",
        "1\n",
        "+\n",
        ".\n",
        ".\n",
        ".\n",
        "+\n",
        "β\n",
        "n\n",
        "x\n",
        "n\n",
        "1\n",
        "+\n",
        "ϵ\n",
        "\n",
        "onde:\n",
        "\n",
        "y\n",
        "  é a variável dependente;\n",
        "x\n",
        "1\n",
        "  é a variável independente;\n",
        "β\n",
        "0\n",
        "  é o intercepto, que representa o valor de  \n",
        "y\n",
        "  quando  \n",
        "x\n",
        "1\n",
        "  é igual a zero;\n",
        "β\n",
        "1\n",
        ",\n",
        "β\n",
        "2\n",
        ",\n",
        ".\n",
        ".\n",
        ".\n",
        ",\n",
        "β\n",
        "n\n",
        "  são os coeficientes de regressão, que representam a variação de  \n",
        "y\n",
        "  para cada unidade de variação em  \n",
        "x\n",
        "1\n",
        "  elevado a uma potência;\n",
        "ϵ\n",
        "  é o erro aleatório, que representa a variação não explicada pela relação polinomial entre  \n",
        "y\n",
        "  e  \n",
        "x\n",
        "1\n",
        " .\n",
        "O modelo polinomial pode ter represnetado por uma matriz: $$ \\begin{bmatrix} y_1 \\ y_2 \\ \\vdots \\ y_\n",
        "\n",
        "\n",
        "**Exemplos Práticos**:\n",
        "1. Prever o preço de uma casa com base em sua metragem.\n",
        "2. Estimar o rendimento de um funcionário com base em suas horas de trabalho.\n",
        "\n",
        "**Principais Características**:\n",
        "1. Não-Linearidade: Assume uma relação não-linear entre as variáveis.\n",
        "\n",
        "**Uso Comum**:\n",
        "<p> Muito utilizada em várias áreas, como economia, biologia e ciências sociais. <p>\n"
      ],
      "metadata": {
        "id": "vyC1ACi2c8MB"
      }
    },
    {
      "cell_type": "markdown",
      "source": [
        "**Prática**:\n",
        "<p> Estimando vendas de sorvetes com base na temperatura do ambiente. <p>"
      ],
      "metadata": {
        "id": "-v1Uhq3LF2hg"
      }
    },
    {
      "cell_type": "code",
      "source": [
        "# importando as bibliotecas\n",
        "\n",
        "import pandas as pd #para transformar dados em dataframe\n",
        "import numpy as np #não chegarei a usar, mas fica de opção para criar matrizes e vetores\n",
        "import matplotlib.pyplot as plt # para visualizarmos\n",
        "import seaborn as sns #para visualização\n",
        "from sklearn.model_selection import train_test_split #para separar nossos dados em teste e treino\n",
        "from sklearn.metrics import mean_squared_error, r2_score #para apurar nossa previsão\n",
        "from sklearn.preprocessing import PolynomialFeatures #para transformar características não-lineares em uma forma linear\n",
        "from sklearn.linear_model import LinearRegression #o modelo selecionado\n",
        "\n",
        "\n"
      ],
      "metadata": {
        "id": "3MuCrxCggNnp"
      },
      "execution_count": null,
      "outputs": []
    },
    {
      "cell_type": "code",
      "source": [
        "df_poly= pd.read_csv('/content/dataset/regressaoLinearPolynomial/Ice_cream selling data.csv')"
      ],
      "metadata": {
        "id": "6EfTkqT4f8fU"
      },
      "execution_count": null,
      "outputs": []
    },
    {
      "cell_type": "code",
      "execution_count": null,
      "metadata": {
        "id": "qkHWCTdkoXpY"
      },
      "outputs": [],
      "source": [
        "df_poly.head()"
      ]
    },
    {
      "cell_type": "code",
      "source": [
        "#checando se existe valores nao preenchidos\n",
        "df_poly.isna().sum()\n"
      ],
      "metadata": {
        "id": "fHhfE6aRhZ8B"
      },
      "execution_count": null,
      "outputs": []
    },
    {
      "cell_type": "code",
      "source": [
        "# visualizando como os dados estão distribuidos\n",
        "\n",
        "plt.scatter(df_poly['Temperature (°C)'], df_poly['Ice Cream Sales (units)'])\n",
        "plt.xlabel('Temperature (°C)')\n",
        "plt.ylabel('Ice Cream Sales (units)')\n",
        "plt.show()"
      ],
      "metadata": {
        "id": "kdKLtOxbiytU"
      },
      "execution_count": null,
      "outputs": []
    },
    {
      "cell_type": "code",
      "source": [
        "#Separando nossos dados em alvos e explicativas\n",
        "\n",
        "X = df_poly['Temperature (°C)'].values.reshape(-1, 1)# variaveis causadora\n",
        "y = df_poly['Ice Cream Sales (units)'].values.reshape(-1, 1) #variavel consequencia"
      ],
      "metadata": {
        "id": "zq8EodG2iGeI"
      },
      "execution_count": null,
      "outputs": []
    },
    {
      "cell_type": "code",
      "source": [
        "# invocando o modelo de polynomial para ajustar a não-linearidade\n",
        "pf=PolynomialFeatures(degree=2)\n"
      ],
      "metadata": {
        "id": "fbf4Q6ijjT8q"
      },
      "execution_count": null,
      "outputs": []
    },
    {
      "cell_type": "code",
      "source": [
        "pf.fit(X)\n"
      ],
      "metadata": {
        "id": "Kvd-upGKkDR5"
      },
      "execution_count": null,
      "outputs": []
    },
    {
      "cell_type": "code",
      "source": [
        "#resevando em nova variavel\n",
        "\n",
        "x_=pf.transform(X)"
      ],
      "metadata": {
        "id": "3Lr3W_wtK-by"
      },
      "execution_count": null,
      "outputs": []
    },
    {
      "cell_type": "code",
      "source": [
        "# Separando os dados em teste e treino\n",
        "\n",
        "x_train,x_test,y_train,y_test=train_test_split(x_,y,test_size=0.2,random_state=42)\n"
      ],
      "metadata": {
        "id": "HWyD-WJ1hiw4"
      },
      "execution_count": null,
      "outputs": []
    },
    {
      "cell_type": "code",
      "source": [
        "#Treinando o modelo de regressão\n",
        "\n",
        "lr_poly=LinearRegression()\n"
      ],
      "metadata": {
        "id": "7zok56KPkI20"
      },
      "execution_count": null,
      "outputs": []
    },
    {
      "cell_type": "code",
      "source": [
        "#treinando o nosso modelo\n",
        "lr_poly.fit(x_train,y_train)"
      ],
      "metadata": {
        "id": "ghyk4QZ3kMn8"
      },
      "execution_count": null,
      "outputs": []
    },
    {
      "cell_type": "code",
      "source": [
        "#verificando o nosso score\n",
        "\n",
        "lr_poly.score(x_test,y_test),lr_poly.score(x_train,y_train)\n"
      ],
      "metadata": {
        "id": "hz8G9DS_Lh7O"
      },
      "execution_count": null,
      "outputs": []
    },
    {
      "cell_type": "code",
      "source": [
        "# Prevendo na prática\n",
        "\n",
        "Predict = lr_poly.predict((x_test))\n",
        "df_treino = pd.DataFrame({'Real': y_test.flatten(), 'Previsto': Predict.flatten()})\n",
        "df_treino"
      ],
      "metadata": {
        "id": "CSp_t30rLhoz"
      },
      "execution_count": null,
      "outputs": []
    },
    {
      "cell_type": "code",
      "source": [
        "plt.figure(figsize=(5,5))\n",
        "sns.scatterplot(x=df_poly[\"Temperature (°C)\"],y=y.ravel(),data=df_poly)\n",
        "plt.plot(X,lr_poly.predict(x_),c=\"r\")\n",
        "plt.show()"
      ],
      "metadata": {
        "id": "hKbMPSLiMa5E"
      },
      "execution_count": null,
      "outputs": []
    },
    {
      "cell_type": "code",
      "source": [
        "# Comparando o modelo com a realidade\n",
        "\n",
        "plt.figure(figsize=(10, 6))\n",
        "\n",
        "# Plotando os valores reais\n",
        "plt.scatter(df_treino['Real'], df_treino['Previsto'], label='Valores Reais', color='blue')\n",
        "\n",
        "# Plotando os valores previstos\n",
        "plt.scatter(df_treino['Previsto'], df_treino['Real'], label='Valores Previstos', color='red', linestyle='--')\n",
        "\n",
        "# Adicionando a linha de ajuste (regressão linear)\n",
        "m, b = np.polyfit(df_treino['Real'], df_treino['Previsto'], 1)\n",
        "plt.plot(df_treino['Real'], m * df_treino['Real'] + b, color='red', linestyle='--', label='Linha de Ajuste')\n",
        "\n",
        "# Adicionando uma linha diagonal (correspondência perfeita)\n",
        "plt.plot(df_treino['Real'], df_treino['Real'], color='green', linestyle='--', label='Linha de Correspondência Perfeita')\n",
        "\n",
        "\n",
        "\n",
        "# Adicionando título e legendas\n",
        "plt.title('Comparação entre Valores Reais e Valores Previstos')\n",
        "plt.xlabel('Índice')\n",
        "plt.ylabel('Valores')\n",
        "plt.legend()\n",
        "\n",
        "# Exibindo o gráfico\n",
        "plt.show()"
      ],
      "metadata": {
        "id": "jfsaCnkvkR4d"
      },
      "execution_count": null,
      "outputs": []
    }
  ]
}